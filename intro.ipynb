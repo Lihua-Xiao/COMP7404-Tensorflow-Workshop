{
  "nbformat": 4,
  "nbformat_minor": 0,
  "metadata": {
    "colab": {
      "name": "intro",
      "provenance": [],
      "collapsed_sections": [],
      "include_colab_link": true
    },
    "kernelspec": {
      "name": "python3",
      "display_name": "Python 3"
    }
  },
  "cells": [
    {
      "cell_type": "markdown",
      "metadata": {
        "id": "view-in-github",
        "colab_type": "text"
      },
      "source": [
        "<a href=\"https://colab.research.google.com/github/Lihua-Xiao/LX/blob/master/intro.ipynb\" target=\"_parent\"><img src=\"https://colab.research.google.com/assets/colab-badge.svg\" alt=\"Open In Colab\"/></a>"
      ]
    },
    {
      "cell_type": "code",
      "metadata": {
        "id": "qTE8N51c4C9H"
      },
      "source": [
        "import numpy as np"
      ],
      "execution_count": null,
      "outputs": []
    },
    {
      "cell_type": "markdown",
      "metadata": {
        "id": "CMuyE6xA4Rf5"
      },
      "source": [
        "Scalar or 0D Tensor"
      ]
    },
    {
      "cell_type": "code",
      "metadata": {
        "id": "TluNlD804Hzg",
        "colab": {
          "base_uri": "https://localhost:8080/",
          "height": 51
        },
        "outputId": "2661dce8-f28e-4141-db26-3c7a4a70304a"
      },
      "source": [
        "x = np.array(1)\n",
        "print(x)\n",
        "print(x.ndim)"
      ],
      "execution_count": null,
      "outputs": [
        {
          "output_type": "stream",
          "text": [
            "1\n",
            "0\n"
          ],
          "name": "stdout"
        }
      ]
    },
    {
      "cell_type": "markdown",
      "metadata": {
        "id": "NW_7jwBg4lNf"
      },
      "source": [
        "Vectors or 1D Tensor"
      ]
    },
    {
      "cell_type": "code",
      "metadata": {
        "id": "SP7iffH94Ze_",
        "colab": {
          "base_uri": "https://localhost:8080/",
          "height": 51
        },
        "outputId": "5b14e65c-412f-45c3-aac4-b4e5299b2f4b"
      },
      "source": [
        "x = np.array([1,2,3,4,5])\n",
        "print(x)\n",
        "print(x.ndim)"
      ],
      "execution_count": null,
      "outputs": [
        {
          "output_type": "stream",
          "text": [
            "[1 2 3 4 5]\n",
            "1\n"
          ],
          "name": "stdout"
        }
      ]
    },
    {
      "cell_type": "markdown",
      "metadata": {
        "id": "8uSLfWwq4ruJ"
      },
      "source": [
        "Matrices or 2D Tensors\n"
      ]
    },
    {
      "cell_type": "code",
      "metadata": {
        "id": "8TCBL9qt4osE",
        "colab": {
          "base_uri": "https://localhost:8080/",
          "height": 85
        },
        "outputId": "e7d230e8-be3b-403f-96cd-3ca7cd502f9b"
      },
      "source": [
        "x = np.array([[1,2,3,4,5],[6,7,8,9,10]])\n",
        "print(x)\n",
        "print(x.ndim)\n",
        "print(x.shape)"
      ],
      "execution_count": null,
      "outputs": [
        {
          "output_type": "stream",
          "text": [
            "[[ 1  2  3  4  5]\n",
            " [ 6  7  8  9 10]]\n",
            "2\n",
            "(2, 5)\n"
          ],
          "name": "stdout"
        }
      ]
    },
    {
      "cell_type": "markdown",
      "metadata": {
        "id": "fB8Wmu3y5Fz_"
      },
      "source": [
        "3D Tensors"
      ]
    },
    {
      "cell_type": "code",
      "metadata": {
        "id": "heG7_6Z84_nO",
        "colab": {
          "base_uri": "https://localhost:8080/",
          "height": 136
        },
        "outputId": "8fe1913f-8fbb-4d5a-ee8d-7d1b1ce2cde6"
      },
      "source": [
        "x = np.array([ [[1,2,3,4,5],[6,7,8,9,10]],\n",
        "              [[11,12,13,14,15],[16,17,18,19,20]] \n",
        "            ])\n",
        "print(x)\n",
        "print(x.ndim)\n",
        "print(x.shape)"
      ],
      "execution_count": null,
      "outputs": [
        {
          "output_type": "stream",
          "text": [
            "[[[ 1  2  3  4  5]\n",
            "  [ 6  7  8  9 10]]\n",
            "\n",
            " [[11 12 13 14 15]\n",
            "  [16 17 18 19 20]]]\n",
            "3\n",
            "(2, 2, 5)\n"
          ],
          "name": "stdout"
        }
      ]
    },
    {
      "cell_type": "code",
      "metadata": {
        "id": "w2WCdC-p5NqX"
      },
      "source": [
        ""
      ],
      "execution_count": null,
      "outputs": []
    }
  ]
}